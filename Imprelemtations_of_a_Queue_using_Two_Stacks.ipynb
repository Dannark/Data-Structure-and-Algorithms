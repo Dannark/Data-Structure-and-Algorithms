{
  "nbformat": 4,
  "nbformat_minor": 0,
  "metadata": {
    "colab": {
      "name": "Imprelemtations of a Queue using Two Stacks.ipynb",
      "provenance": []
    },
    "kernelspec": {
      "name": "python3",
      "display_name": "Python 3"
    }
  },
  "cells": [
    {
      "cell_type": "code",
      "metadata": {
        "id": "aGl19gEm1wLc",
        "colab_type": "code",
        "colab": {
          "base_uri": "https://localhost:8080/",
          "height": 51
        },
        "outputId": "9a7cc0a4-152d-45ea-8337-fbd12ff01bac"
      },
      "source": [
        "class Queue2Stacks(object):\n",
        "    \n",
        "    def __init__(self):\n",
        "        \n",
        "        # Two Stacks\n",
        "        self.instack = []\n",
        "        self.outstack = []\n",
        "     \n",
        "    def enqueue(self,element):\n",
        "        \n",
        "        # Add an enqueue with the \"IN\" stack\n",
        "        self.instack.append(element)\n",
        "    \n",
        "    def dequeue(self):\n",
        "        if not self.outstack:\n",
        "            while self.instack:\n",
        "                # Add the elements to the outstack to reverse the order when called\n",
        "                self.outstack.append(self.instack.pop())\n",
        "        return self.outstack.pop()\n",
        "\n",
        "q = Queue2Stacks()\n",
        "\n",
        "q.enqueue(1)\n",
        "q.enqueue(2)\n",
        "q.enqueue(3)\n",
        "print(q.dequeue())"
      ],
      "execution_count": null,
      "outputs": [
        {
          "output_type": "stream",
          "text": [
            "second stack is empty\n",
            "1\n"
          ],
          "name": "stdout"
        }
      ]
    }
  ]
}